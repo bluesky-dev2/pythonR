{
 "cells": [
  {
   "cell_type": "markdown",
   "source": [
    "# Quintic polynomials planner"
   ],
   "metadata": {
    "collapsed": false
   }
  },
  {
   "cell_type": "markdown",
   "source": [
    "## Quintic polynomials for one dimensional robot motion\n",
    "\n",
    "We assume a dimensional robot motion $x(t)$ at time $t$ is formulated as a quintic polynomials based on time as follows:\n",
    "\n",
    "$x(t) = a_0+a_1t+a_2t^2+a_3t^3+a_4t^4$\n",
    "\n",
    "a_0, a_1. a_2, a_3 are parameters of the quintic polynomial.\n",
    "\n",
    "So, when time is 0,\n",
    "\n",
    "$x(0) = a_0 = x_s$\n",
    "\n",
    "x_s is a start x position.\n",
    "\n",
    "\n",
    "\n",
    "$e^{i\\pi} + 1 = 0$\n",
    "\n",
    "\n"
   ],
   "metadata": {
    "collapsed": false
   }
  }
 ],
 "metadata": {
  "kernelspec": {
   "display_name": "Python 3",
   "language": "python",
   "name": "python3"
  },
  "language_info": {
   "codemirror_mode": {
    "name": "ipython",
    "version": 2
   },
   "file_extension": ".py",
   "mimetype": "text/x-python",
   "name": "python",
   "nbconvert_exporter": "python",
   "pygments_lexer": "ipython2",
   "version": "2.7.6"
  },
  "pycharm": {
   "stem_cell": {
    "cell_type": "raw",
    "source": [],
    "metadata": {
     "collapsed": false
    }
   }
  }
 },
 "nbformat": 4,
 "nbformat_minor": 0
}